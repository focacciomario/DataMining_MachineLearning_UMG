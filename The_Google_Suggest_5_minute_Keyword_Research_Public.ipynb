{
  "nbformat": 4,
  "nbformat_minor": 0,
  "metadata": {
    "colab": {
      "provenance": [],
      "collapsed_sections": [],
      "include_colab_link": true
    },
    "kernelspec": {
      "name": "python3",
      "display_name": "Python 3"
    }
  },
  "cells": [
    {
      "cell_type": "markdown",
      "metadata": {
        "id": "view-in-github",
        "colab_type": "text"
      },
      "source": [
        "<a href=\"https://colab.research.google.com/github/focacciomario/DataMining_MachineLearning_UMG/blob/main/The_Google_Suggest_5_minute_Keyword_Research_Public.ipynb\" target=\"_parent\"><img src=\"https://colab.research.google.com/assets/colab-badge.svg\" alt=\"Open In Colab\"/></a>"
      ]
    },
    {
      "cell_type": "markdown",
      "metadata": {
        "id": "2YpiUu9i2BEO"
      },
      "source": [
        "#**Make a Keyword Research in 5 minutes using Google Suggest**\n",
        "\n",
        "---\n"
      ]
    },
    {
      "cell_type": "markdown",
      "metadata": {
        "id": "Fku_9yeYHywm"
      },
      "source": [
        "This Keyword Script will quickly generate keyword ideas from Google Suggest and cluster them using the most common words"
      ]
    },
    {
      "cell_type": "markdown",
      "metadata": {
        "id": "LRKmt_iyH-Lz"
      },
      "source": [
        "## Step 1: Change Settings"
      ]
    },
    {
      "cell_type": "markdown",
      "metadata": {
        "id": "UfsqSDfgw4Dx"
      },
      "source": [
        "Fill in the field lang_code with your language code (e.g. en, fr, es, nl) and enter up to 5 seed keywords you want to use.\n",
        "\n"
      ]
    },
    {
      "cell_type": "code",
      "metadata": {
        "id": "GAIgPfwv2BRf"
      },
      "source": [
        "#language code and keywords\n",
        "lang_code=\"it\"#@param {type:\"string\"}\n",
        "keyword1=\"videomaker matrimonio\" #@param {type:\"string\"}\n",
        "keyword2=\"video matrimonio\" #@param {type:\"string\"}\n",
        "keyword3=\"film matrimonio\" #@param {type:\"string\"}\n",
        "keyword4=\"\" #@param {type:\"string\"}\n",
        "keyword5=\"\" #@param {type:\"string\"}"
      ],
      "execution_count": null,
      "outputs": []
    },
    {
      "cell_type": "markdown",
      "metadata": {
        "id": "zQhsBjlvIA17"
      },
      "source": [
        "## Step 2: Run The Code"
      ]
    },
    {
      "cell_type": "code",
      "metadata": {
        "id": "HkGuaevewY-9",
        "colab": {
          "base_uri": "https://localhost:8080/"
        },
        "outputId": "eb6ddccd-2227-48ba-b2ec-deb6d8b1c2d0"
      },
      "source": [
        "#generate keyword list\n",
        "keywords=[keyword1,keyword2,keyword3,keyword4,keyword5]\n",
        "keywordlist = list(filter(None, keywords))\n",
        "keywordlist"
      ],
      "execution_count": null,
      "outputs": [
        {
          "output_type": "execute_result",
          "data": {
            "text/plain": [
              "['dog food', 'cat food']"
            ]
          },
          "metadata": {},
          "execution_count": 2
        }
      ]
    },
    {
      "cell_type": "markdown",
      "metadata": {
        "id": "56wYjASE4moS"
      },
      "source": [
        "### Importeer modules"
      ]
    },
    {
      "cell_type": "code",
      "metadata": {
        "id": "HK164hka4n6L",
        "colab": {
          "base_uri": "https://localhost:8080/"
        },
        "outputId": "29468030-ea11-4978-a98d-e4cb1af4a472"
      },
      "source": [
        "import pandas as pd\n",
        "import requests\n",
        "import json\n",
        "import time\n",
        "import string\n",
        "import nltk\n",
        "nltk.download('punkt')\n",
        "!pip install stop_words\n",
        "from stop_words import get_stop_words\n",
        "from google.colab import files\n",
        "%load_ext google.colab.data_table\n",
        "from collections import Counter\n",
        "from json import loads"
      ],
      "execution_count": null,
      "outputs": [
        {
          "output_type": "stream",
          "name": "stdout",
          "text": [
            "[nltk_data] Downloading package punkt to /root/nltk_data...\n",
            "[nltk_data]   Unzipping tokenizers/punkt.zip.\n",
            "Collecting stop_words\n",
            "  Downloading stop-words-2018.7.23.tar.gz (31 kB)\n",
            "Building wheels for collected packages: stop-words\n",
            "  Building wheel for stop-words (setup.py) ... \u001b[?25l\u001b[?25hdone\n",
            "  Created wheel for stop-words: filename=stop_words-2018.7.23-py3-none-any.whl size=32912 sha256=eb3cef4aef33db0c486b0dcc85f8b5054f293ef9ebf9dbb55c3d6a9ad8dc209c\n",
            "  Stored in directory: /root/.cache/pip/wheels/fb/86/b2/277b10b1ce9f73ce15059bf6975d4547cc4ec3feeb651978e9\n",
            "Successfully built stop-words\n",
            "Installing collected packages: stop-words\n",
            "Successfully installed stop-words-2018.7.23\n"
          ]
        }
      ]
    },
    {
      "cell_type": "code",
      "metadata": {
        "id": "cJD88SfatgOF"
      },
      "source": [
        "#Make a list of letters to use for Google Suggest\n",
        "letterlist=[\"\"]\n",
        "letterlist=letterlist+list(string.ascii_lowercase)"
      ],
      "execution_count": null,
      "outputs": []
    },
    {
      "cell_type": "code",
      "metadata": {
        "id": "S0OtLNIV9CZa"
      },
      "source": [
        "#Google Suggest for each combination of keyword and letter\n",
        "keywordsuggestions=[]\n",
        "for keyword in keywordlist: \n",
        "  for letter in letterlist :\n",
        "    URL=\"http://suggestqueries.google.com/complete/search?client=firefox&hl=\"+str(lang_code)+\"&q=\"+keyword+\" \"+letter\n",
        "    headers = {'User-agent':'Mozilla/5.0'} \n",
        "    response = requests.get(URL, headers=headers) \n",
        "    result = json.loads(response.content.decode('utf-8'))\n",
        "    keywordsuggest=[keyword,letter] \n",
        "    for word in result[1]:\n",
        "      if(word!=keyword):\n",
        "        keywordsuggest.append(word)\n",
        "    time.sleep(1)\n",
        "    keywordsuggestions.append(keywordsuggest)\n",
        "#crearte a dataframe from this list\n",
        "keywordsuggestions_df = pd.DataFrame(keywordsuggestions)"
      ],
      "execution_count": null,
      "outputs": []
    },
    {
      "cell_type": "code",
      "metadata": {
        "id": "vffQL_3HBnci"
      },
      "source": [
        "#Rename columns of dataframe\n",
        "columnnames=[\"Keyword\",\"Letter\"]\n",
        "for i in range(1,len(keywordsuggestions_df.columns)-1):\n",
        "  columnnames.append(\"Suggestion\"+str(i))\n",
        "keywordsuggestions_df.columns=columnnames"
      ],
      "execution_count": null,
      "outputs": []
    },
    {
      "cell_type": "code",
      "metadata": {
        "id": "EHfHcVT3xtwF"
      },
      "source": [
        "#Make a list of all suggestions\n",
        "allkeywords = keywordlist\n",
        "for i in range(1,len(keywordsuggestions_df.columns)-1):\n",
        "  suggestlist = keywordsuggestions_df[\"Suggestion\"+str(i)].values.tolist()\n",
        "  for suggestion in suggestlist:\n",
        "    allkeywords.append(suggestion)"
      ],
      "execution_count": null,
      "outputs": []
    },
    {
      "cell_type": "code",
      "metadata": {
        "id": "QnT2D89MVNcO"
      },
      "source": [
        "#exclude stopwords and seed keywords from this list\n",
        "stop_words=get_stop_words(lang_code)\n",
        "wordlist=[]\n",
        "seed_words=[]\n",
        "for keyword in keywords:\n",
        "   for seed_word in nltk.word_tokenize(str(keyword).lower()):\n",
        "     if(len(seed_word)>0):\n",
        "       seed_words.append(seed_word)\n",
        "for keyword in allkeywords:\n",
        "   words = nltk.word_tokenize(str(keyword).lower()) \n",
        "   #word tokenizer\n",
        "   for word in words:\n",
        "     if(word not in stop_words and word not in seed_words and len(word)>1):\n",
        "      wordlist.append(word)"
      ],
      "execution_count": null,
      "outputs": []
    },
    {
      "cell_type": "code",
      "metadata": {
        "id": "eybcpyh7ABAi"
      },
      "source": [
        "#find the most common words in the suggestions\n",
        "most_common_words= [word for word, word_count in Counter(wordlist).most_common(200)]"
      ],
      "execution_count": null,
      "outputs": []
    },
    {
      "cell_type": "code",
      "metadata": {
        "id": "Lngt-nq7KTcd"
      },
      "source": [
        "#assign each suggestion to a common keyword\n",
        "clusters=[]\n",
        "for common_word in most_common_words:\n",
        "    for keyword in allkeywords:\n",
        "      if(common_word in str(keyword)):\n",
        "         clusters.append([keyword,common_word])\n",
        "clusterdf = pd.DataFrame(clusters,columns=['Keyword', 'Cluster'])"
      ],
      "execution_count": null,
      "outputs": []
    },
    {
      "cell_type": "markdown",
      "metadata": {
        "id": "WokbT7YvJYCC"
      },
      "source": [
        "## Step 3: End Result"
      ]
    },
    {
      "cell_type": "code",
      "metadata": {
        "id": "J6M_We-qGvtl",
        "colab": {
          "base_uri": "https://localhost:8080/",
          "height": 637
        },
        "outputId": "c967262c-1ac5-4250-d832-6f2ca330b5c9"
      },
      "source": [
        "#create dataframe wiht clusters en suggestions\n",
        "clusterdf.to_csv(\"keywords_clustered.csv\")\n",
        "files.download(\"keywords_clustered.csv\")\n",
        "clusterdf"
      ],
      "execution_count": null,
      "outputs": [
        {
          "output_type": "display_data",
          "data": {
            "application/javascript": [
              "\n",
              "    async function download(id, filename, size) {\n",
              "      if (!google.colab.kernel.accessAllowed) {\n",
              "        return;\n",
              "      }\n",
              "      const div = document.createElement('div');\n",
              "      const label = document.createElement('label');\n",
              "      label.textContent = `Downloading \"${filename}\": `;\n",
              "      div.appendChild(label);\n",
              "      const progress = document.createElement('progress');\n",
              "      progress.max = size;\n",
              "      div.appendChild(progress);\n",
              "      document.body.appendChild(div);\n",
              "\n",
              "      const buffers = [];\n",
              "      let downloaded = 0;\n",
              "\n",
              "      const channel = await google.colab.kernel.comms.open(id);\n",
              "      // Send a message to notify the kernel that we're ready.\n",
              "      channel.send({})\n",
              "\n",
              "      for await (const message of channel.messages) {\n",
              "        // Send a message to notify the kernel that we're ready.\n",
              "        channel.send({})\n",
              "        if (message.buffers) {\n",
              "          for (const buffer of message.buffers) {\n",
              "            buffers.push(buffer);\n",
              "            downloaded += buffer.byteLength;\n",
              "            progress.value = downloaded;\n",
              "          }\n",
              "        }\n",
              "      }\n",
              "      const blob = new Blob(buffers, {type: 'application/binary'});\n",
              "      const a = document.createElement('a');\n",
              "      a.href = window.URL.createObjectURL(blob);\n",
              "      a.download = filename;\n",
              "      div.appendChild(a);\n",
              "      a.click();\n",
              "      div.remove();\n",
              "    }\n",
              "  "
            ],
            "text/plain": [
              "<IPython.core.display.Javascript object>"
            ]
          },
          "metadata": {}
        },
        {
          "output_type": "display_data",
          "data": {
            "application/javascript": [
              "download(\"download_309671fc-82b1-4dd8-8856-2a1d7c32f678\", \"keywords_clustered.csv\", 20499)"
            ],
            "text/plain": [
              "<IPython.core.display.Javascript object>"
            ]
          },
          "metadata": {}
        },
        {
          "output_type": "execute_result",
          "data": {
            "application/vnd.google.colaboratory.module+javascript": "\n      import \"https://ssl.gstatic.com/colaboratory/data_table/a6224c040fa35dcf/data_table.js\";\n\n      window.createDataTable({\n        data: [[{\n            'v': 0,\n            'f': \"0\",\n        },\n\"dog food container\",\n\"container\"],\n [{\n            'v': 1,\n            'f': \"1\",\n        },\n\"dog food storage container\",\n\"container\"],\n [{\n            'v': 2,\n            'f': \"2\",\n        },\n\"dog food container\",\n\"container\"],\n [{\n            'v': 3,\n            'f': \"3\",\n        },\n\"cat food container\",\n\"container\"],\n [{\n            'v': 4,\n            'f': \"4\",\n        },\n\"dog food container\",\n\"container\"],\n [{\n            'v': 5,\n            'f': \"5\",\n        },\n\"cat food storage container\",\n\"container\"],\n [{\n            'v': 6,\n            'f': \"6\",\n        },\n\"dog food container walmart\",\n\"container\"],\n [{\n            'v': 7,\n            'f': \"7\",\n        },\n\"dog food container walmart\",\n\"container\"],\n [{\n            'v': 8,\n            'f': \"8\",\n        },\n\"dog food storage container\",\n\"container\"],\n [{\n            'v': 9,\n            'f': \"9\",\n        },\n\"cat food container\",\n\"container\"],\n [{\n            'v': 10,\n            'f': \"10\",\n        },\n\"dog food container 50 lbs\",\n\"container\"],\n [{\n            'v': 11,\n            'f': \"11\",\n        },\n\"dog food container 50 lbs\",\n\"container\"],\n [{\n            'v': 12,\n            'f': \"12\",\n        },\n\"dog food yellow bag\",\n\"bag\"],\n [{\n            'v': 13,\n            'f': \"13\",\n        },\n\"cat food yellow bag\",\n\"bag\"],\n [{\n            'v': 14,\n            'f': \"14\",\n        },\n\"cat food green bag\",\n\"bag\"],\n [{\n            'v': 15,\n            'f': \"15\",\n        },\n\"dog food green bag\",\n\"bag\"],\n [{\n            'v': 16,\n            'f': \"16\",\n        },\n\"dog food bag\",\n\"bag\"],\n [{\n            'v': 17,\n            'f': \"17\",\n        },\n\"dog food travel bag\",\n\"bag\"],\n [{\n            'v': 18,\n            'f': \"18\",\n        },\n\"cat food orange bag\",\n\"bag\"],\n [{\n            'v': 19,\n            'f': \"19\",\n        },\n\"dog food in yellow bag\",\n\"bag\"],\n [{\n            'v': 20,\n            'f': \"20\",\n        },\n\"cat food bag\",\n\"bag\"],\n [{\n            'v': 21,\n            'f': \"21\",\n        },\n\"cat food yang bagus\",\n\"bag\"],\n [{\n            'v': 22,\n            'f': \"22\",\n        },\n\"dog food orange bag\",\n\"bag\"],\n [{\n            'v': 23,\n            'f': \"23\",\n        },\n\"dog food blue bag\",\n\"bag\"],\n [{\n            'v': 24,\n            'f': \"24\",\n        },\n\"cat food yang bagus untuk bulu\",\n\"bag\"],\n [{\n            'v': 25,\n            'f': \"25\",\n        },\n\"cat food urinary health\",\n\"urinary\"],\n [{\n            'v': 26,\n            'f': \"26\",\n        },\n\"dog food urinary health\",\n\"urinary\"],\n [{\n            'v': 27,\n            'f': \"27\",\n        },\n\"cat food urinary so\",\n\"urinary\"],\n [{\n            'v': 28,\n            'f': \"28\",\n        },\n\"cat food for urinary health\",\n\"urinary\"],\n [{\n            'v': 29,\n            'f': \"29\",\n        },\n\"cat food urinary purina\",\n\"urinary\"],\n [{\n            'v': 30,\n            'f': \"30\",\n        },\n\"dog food urinary so\",\n\"urinary\"],\n [{\n            'v': 31,\n            'f': \"31\",\n        },\n\"cat food urinary health c/d\",\n\"urinary\"],\n [{\n            'v': 32,\n            'f': \"32\",\n        },\n\"dog food urinary\",\n\"urinary\"],\n [{\n            'v': 33,\n            'f': \"33\",\n        },\n\"cat food urinary stress\",\n\"urinary\"],\n [{\n            'v': 34,\n            'f': \"34\",\n        },\n\"cat food urinary care c/d\",\n\"urinary\"],\n [{\n            'v': 35,\n            'f': \"35\",\n        },\n\"dog food gravy\",\n\"gravy\"],\n [{\n            'v': 36,\n            'f': \"36\",\n        },\n\"cat food gravy\",\n\"gravy\"],\n [{\n            'v': 37,\n            'f': \"37\",\n        },\n\"cat food just gravy\",\n\"gravy\"],\n [{\n            'v': 38,\n            'f': \"38\",\n        },\n\"dog food gravy topper\",\n\"gravy\"],\n [{\n            'v': 39,\n            'f': \"39\",\n        },\n\"cat food gravy recipe\",\n\"gravy\"],\n [{\n            'v': 40,\n            'f': \"40\",\n        },\n\"cat food extra gravy\",\n\"gravy\"],\n [{\n            'v': 41,\n            'f': \"41\",\n        },\n\"cat food gravy topper\",\n\"gravy\"],\n [{\n            'v': 42,\n            'f': \"42\",\n        },\n\"cat food in gravy\",\n\"gravy\"],\n [{\n            'v': 43,\n            'f': \"43\",\n        },\n\"cat food with gravy\",\n\"gravy\"],\n [{\n            'v': 44,\n            'f': \"44\",\n        },\n\"dog food walmart\",\n\"walmart\"],\n [{\n            'v': 45,\n            'f': \"45\",\n        },\n\"cat food walmart\",\n\"walmart\"],\n [{\n            'v': 46,\n            'f': \"46\",\n        },\n\"cat food at walmart\",\n\"walmart\"],\n [{\n            'v': 47,\n            'f': \"47\",\n        },\n\"dog food at walmart\",\n\"walmart\"],\n [{\n            'v': 48,\n            'f': \"48\",\n        },\n\"dog food container walmart\",\n\"walmart\"],\n [{\n            'v': 49,\n            'f': \"49\",\n        },\n\"dog food container walmart\",\n\"walmart\"],\n [{\n            'v': 50,\n            'f': \"50\",\n        },\n\"cat food walmart\",\n\"walmart\"],\n [{\n            'v': 51,\n            'f': \"51\",\n        },\n\"dog food in walmart\",\n\"walmart\"],\n [{\n            'v': 52,\n            'f': \"52\",\n        },\n\"cat food dispenser walmart\",\n\"walmart\"],\n [{\n            'v': 53,\n            'f': \"53\",\n        },\n\"dog food near me\",\n\"near\"],\n [{\n            'v': 54,\n            'f': \"54\",\n        },\n\"cat food near me\",\n\"near\"],\n [{\n            'v': 55,\n            'f': \"55\",\n        },\n\"cat food on sale near me\",\n\"near\"],\n [{\n            'v': 56,\n            'f': \"56\",\n        },\n\"dog food on sale near me\",\n\"near\"],\n [{\n            'v': 57,\n            'f': \"57\",\n        },\n\"dog food store near me\",\n\"near\"],\n [{\n            'v': 58,\n            'f': \"58\",\n        },\n\"cat food near me\",\n\"near\"],\n [{\n            'v': 59,\n            'f': \"59\",\n        },\n\"dog food near me\",\n\"near\"],\n [{\n            'v': 60,\n            'f': \"60\",\n        },\n\"dog food places near me\",\n\"near\"],\n [{\n            'v': 61,\n            'f': \"61\",\n        },\n\"cat food vs dog food\",\n\"vs\"],\n [{\n            'v': 62,\n            'f': \"62\",\n        },\n\"cat food vs kitten food\",\n\"vs\"],\n [{\n            'v': 63,\n            'f': \"63\",\n        },\n\"dog food vs cat food\",\n\"vs\"],\n [{\n            'v': 64,\n            'f': \"64\",\n        },\n\"dog food vs human food\",\n\"vs\"],\n [{\n            'v': 65,\n            'f': \"65\",\n        },\n\"cat food vs dog food price\",\n\"vs\"],\n [{\n            'v': 66,\n            'f': \"66\",\n        },\n\"dog food vs puppy food\",\n\"vs\"],\n [{\n            'v': 67,\n            'f': \"67\",\n        },\n\"cat food vs tuna\",\n\"vs\"],\n [{\n            'v': 68,\n            'f': \"68\",\n        },\n\"cat food wet vs dry\",\n\"vs\"],\n [{\n            'v': 69,\n            'f': \"69\",\n        },\n\"cat food you can make at home\",\n\"can\"],\n [{\n            'v': 70,\n            'f': \"70\",\n        },\n\"cat food can\",\n\"can\"],\n [{\n            'v': 71,\n            'f': \"71\",\n        },\n\"cat food royal canin\",\n\"can\"],\n [{\n            'v': 72,\n            'f': \"72\",\n        },\n\"dog food you can make at home\",\n\"can\"],\n [{\n            'v': 73,\n            'f': \"73\",\n        },\n\"cat food can covers\",\n\"can\"],\n [{\n            'v': 74,\n            'f': \"74\",\n        },\n\"dog food can\",\n\"can\"],\n [{\n            'v': 75,\n            'f': \"75\",\n        },\n\"dog food royal canin\",\n\"can\"],\n [{\n            'v': 76,\n            'f': \"76\",\n        },\n\"dog food can\",\n\"can\"],\n [{\n            'v': 77,\n            'f': \"77\",\n        },\n\"cat food can dispenser\",\n\"can\"],\n [{\n            'v': 78,\n            'f': \"78\",\n        },\n\"dog food you can cook\",\n\"can\"],\n [{\n            'v': 79,\n            'f': \"79\",\n        },\n\"dog food killing dogs 2021\",\n\"dogs\"],\n [{\n            'v': 80,\n            'f': \"80\",\n        },\n\"cat food bad for dogs\",\n\"dogs\"],\n [{\n            'v': 81,\n            'f': \"81\",\n        },\n\"dog food for small dogs\",\n\"dogs\"],\n [{\n            'v': 82,\n            'f': \"82\",\n        },\n\"dog food just for dogs\",\n\"dogs\"],\n [{\n            'v': 83,\n            'f': \"83\",\n        },\n\"dog food killing dogs\",\n\"dogs\"],\n [{\n            'v': 84,\n            'f': \"84\",\n        },\n\"cat food good for dogs\",\n\"dogs\"],\n [{\n            'v': 85,\n            'f': \"85\",\n        },\n\"dog food for senior dogs\",\n\"dogs\"],\n [{\n            'v': 86,\n            'f': \"86\",\n        },\n\"dog food good for dogs\",\n\"dogs\"],\n [{\n            'v': 87,\n            'f': \"87\",\n        },\n\"dog food brands\",\n\"brands\"],\n [{\n            'v': 88,\n            'f': \"88\",\n        },\n\"dog food brands\",\n\"brands\"],\n [{\n            'v': 89,\n            'f': \"89\",\n        },\n\"cat food brands\",\n\"brands\"],\n [{\n            'v': 90,\n            'f': \"90\",\n        },\n\"cat food brands\",\n\"brands\"],\n [{\n            'v': 91,\n            'f': \"91\",\n        },\n\"dog food brands list\",\n\"brands\"],\n [{\n            'v': 92,\n            'f': \"92\",\n        },\n\"cat food brands dry\",\n\"brands\"],\n [{\n            'v': 93,\n            'f': \"93\",\n        },\n\"cat food brands wet\",\n\"brands\"],\n [{\n            'v': 94,\n            'f': \"94\",\n        },\n\"dog food dispenser\",\n\"dispenser\"],\n [{\n            'v': 95,\n            'f': \"95\",\n        },\n\"cat food dispenser\",\n\"dispenser\"],\n [{\n            'v': 96,\n            'f': \"96\",\n        },\n\"cat food dispenser\",\n\"dispenser\"],\n [{\n            'v': 97,\n            'f': \"97\",\n        },\n\"cat food and water dispenser\",\n\"dispenser\"],\n [{\n            'v': 98,\n            'f': \"98\",\n        },\n\"cat food dispenser timer\",\n\"dispenser\"],\n [{\n            'v': 99,\n            'f': \"99\",\n        },\n\"cat food can dispenser\",\n\"dispenser\"],\n [{\n            'v': 100,\n            'f': \"100\",\n        },\n\"cat food dispenser walmart\",\n\"dispenser\"],\n [{\n            'v': 101,\n            'f': \"101\",\n        },\n\"dog food recipes\",\n\"recipes\"],\n [{\n            'v': 102,\n            'f': \"102\",\n        },\n\"cat food recipes\",\n\"recipes\"],\n [{\n            'v': 103,\n            'f': \"103\",\n        },\n\"dog food recipes\",\n\"recipes\"],\n [{\n            'v': 104,\n            'f': \"104\",\n        },\n\"cat food recipes\",\n\"recipes\"],\n [{\n            'v': 105,\n            'f': \"105\",\n        },\n\"dog food recipes with chicken\",\n\"recipes\"],\n [{\n            'v': 106,\n            'f': \"106\",\n        },\n\"cat food recipes to make at home\",\n\"recipes\"],\n [{\n            'v': 107,\n            'f': \"107\",\n        },\n\"dog food recipes beef\",\n\"recipes\"],\n [{\n            'v': 108,\n            'f': \"108\",\n        },\n\"cat food for sensitive stomach\",\n\"stomach\"],\n [{\n            'v': 109,\n            'f': \"109\",\n        },\n\"dog food for sensitive stomach\",\n\"stomach\"],\n [{\n            'v': 110,\n            'f': \"110\",\n        },\n\"dog food upset stomach\",\n\"stomach\"],\n [{\n            'v': 111,\n            'f': \"111\",\n        },\n\"cat food upset stomach\",\n\"stomach\"],\n [{\n            'v': 112,\n            'f': \"112\",\n        },\n\"cat food sensitive stomach\",\n\"stomach\"],\n [{\n            'v': 113,\n            'f': \"113\",\n        },\n\"dog food sensitive stomach\",\n\"stomach\"],\n [{\n            'v': 114,\n            'f': \"114\",\n        },\n\"cat food for sensitive stomach\",\n\"stomach\"],\n [{\n            'v': 115,\n            'f': \"115\",\n        },\n\"dog food joint health\",\n\"health\"],\n [{\n            'v': 116,\n            'f': \"116\",\n        },\n\"cat food urinary health\",\n\"health\"],\n [{\n            'v': 117,\n            'f': \"117\",\n        },\n\"dog food urinary health\",\n\"health\"],\n [{\n            'v': 118,\n            'f': \"118\",\n        },\n\"cat food for urinary health\",\n\"health\"],\n [{\n            'v': 119,\n            'f': \"119\",\n        },\n\"dog food healthy\",\n\"health\"],\n [{\n            'v': 120,\n            'f': \"120\",\n        },\n\"cat food healthy\",\n\"health\"],\n [{\n            'v': 121,\n            'f': \"121\",\n        },\n\"cat food urinary health c/d\",\n\"health\"],\n [{\n            'v': 122,\n            'f': \"122\",\n        },\n\"cat food joint health\",\n\"health\"],\n [{\n            'v': 123,\n            'f': \"123\",\n        },\n\"dog food storage container\",\n\"storage\"],\n [{\n            'v': 124,\n            'f': \"124\",\n        },\n\"dog food storage\",\n\"storage\"],\n [{\n            'v': 125,\n            'f': \"125\",\n        },\n\"cat food storage container\",\n\"storage\"],\n [{\n            'v': 126,\n            'f': \"126\",\n        },\n\"cat food storage\",\n\"storage\"],\n [{\n            'v': 127,\n            'f': \"127\",\n        },\n\"dog food storage container\",\n\"storage\"],\n [{\n            'v': 128,\n            'f': \"128\",\n        },\n\"dog food storage\",\n\"storage\"],\n [{\n            'v': 129,\n            'f': \"129\",\n        },\n\"cat food shortage\",\n\"shortage\"],\n [{\n            'v': 130,\n            'f': \"130\",\n        },\n\"cat food shortage\",\n\"shortage\"],\n [{\n            'v': 131,\n            'f': \"131\",\n        },\n\"cat food shortage 2022\",\n\"shortage\"],\n [{\n            'v': 132,\n            'f': \"132\",\n        },\n\"dog food shortage\",\n\"shortage\"],\n [{\n            'v': 133,\n            'f': \"133\",\n        },\n\"cat food shortage 2021\",\n\"shortage\"],\n [{\n            'v': 134,\n            'f': \"134\",\n        },\n\"cat food shortage 2022\",\n\"shortage\"],\n [{\n            'v': 135,\n            'f': \"135\",\n        },\n\"cat food kidney disease\",\n\"kidney\"],\n [{\n            'v': 136,\n            'f': \"136\",\n        },\n\"dog food kidney disease\",\n\"kidney\"],\n [{\n            'v': 137,\n            'f': \"137\",\n        },\n\"cat food for kidney disease\",\n\"kidney\"],\n [{\n            'v': 138,\n            'f': \"138\",\n        },\n\"dog food for kidney disease\",\n\"kidney\"],\n [{\n            'v': 139,\n            'f': \"139\",\n        },\n\"cat food kidney care\",\n\"kidney\"],\n [{\n            'v': 140,\n            'f': \"140\",\n        },\n\"dog food kidney care\",\n\"kidney\"],\n [{\n            'v': 141,\n            'f': \"141\",\n        },\n\"cat food good for kidneys\",\n\"kidney\"],\n [{\n            'v': 142,\n            'f': \"142\",\n        },\n\"cat food quality\",\n\"quality\"],\n [{\n            'v': 143,\n            'f': \"143\",\n        },\n\"dog food quality\",\n\"quality\"],\n [{\n            'v': 144,\n            'f': \"144\",\n        },\n\"dog food quality chart\",\n\"quality\"],\n [{\n            'v': 145,\n            'f': \"145\",\n        },\n\"dog food quality list\",\n\"quality\"],\n [{\n            'v': 146,\n            'f': \"146\",\n        },\n\"cat food quality website\",\n\"quality\"],\n [{\n            'v': 147,\n            'f': \"147\",\n        },\n\"dog food quality rating\",\n\"quality\"],\n [{\n            'v': 148,\n            'f': \"148\",\n        },\n\"dog food calculator\",\n\"calculator\"],\n [{\n            'v': 149,\n            'f': \"149\",\n        },\n\"dog food calculator\",\n\"calculator\"],\n [{\n            'v': 150,\n            'f': \"150\",\n        },\n\"cat food calculator\",\n\"calculator\"],\n [{\n            'v': 151,\n            'f': \"151\",\n        },\n\"cat food quantity calculator\",\n\"calculator\"],\n [{\n            'v': 152,\n            'f': \"152\",\n        },\n\"cat food kcal calculator\",\n\"calculator\"],\n [{\n            'v': 153,\n            'f': \"153\",\n        },\n\"dog food kcal calculator\",\n\"calculator\"],\n [{\n            'v': 154,\n            'f': \"154\",\n        },\n\"cat food bowls\",\n\"bowl\"],\n [{\n            'v': 155,\n            'f': \"155\",\n        },\n\"dog food bowls\",\n\"bowl\"],\n [{\n            'v': 156,\n            'f': \"156\",\n        },\n\"cat food and water bowls\",\n\"bowl\"],\n [{\n            'v': 157,\n            'f': \"157\",\n        },\n\"dog food bowl stand\",\n\"bowl\"],\n [{\n            'v': 158,\n            'f': \"158\",\n        },\n\"dog food and water bowl\",\n\"bowl\"],\n [{\n            'v': 159,\n            'f': \"159\",\n        },\n\"dog food bowl maze\",\n\"bowl\"],\n [{\n            'v': 160,\n            'f': \"160\",\n        },\n\"dog food maze bowl\",\n\"bowl\"],\n [{\n            'v': 161,\n            'f': \"161\",\n        },\n\"cat food bowl stand\",\n\"bowl\"],\n [{\n            'v': 162,\n            'f': \"162\",\n        },\n\"cat food bowls\",\n\"bowl\"],\n [{\n            'v': 163,\n            'f': \"163\",\n        },\n\"cat food puzzle bowl\",\n\"bowl\"],\n [{\n            'v': 164,\n            'f': \"164\",\n        },\n\"dog food for allergies\",\n\"allergies\"],\n [{\n            'v': 165,\n            'f': \"165\",\n        },\n\"cat food for allergies\",\n\"allergies\"],\n [{\n            'v': 166,\n            'f': \"166\",\n        },\n\"dog food allergies\",\n\"allergies\"],\n [{\n            'v': 167,\n            'f': \"167\",\n        },\n\"dog food good for allergies\",\n\"allergies\"],\n [{\n            'v': 168,\n            'f': \"168\",\n        },\n\"dog food to help with allergies\",\n\"allergies\"],\n [{\n            'v': 169,\n            'f': \"169\",\n        },\n\"cat food for sensitive stomach\",\n\"sensitive\"],\n [{\n            'v': 170,\n            'f': \"170\",\n        },\n\"dog food for sensitive stomach\",\n\"sensitive\"],\n [{\n            'v': 171,\n            'f': \"171\",\n        },\n\"cat food sensitive stomach\",\n\"sensitive\"],\n [{\n            'v': 172,\n            'f': \"172\",\n        },\n\"dog food sensitive stomach\",\n\"sensitive\"],\n [{\n            'v': 173,\n            'f': \"173\",\n        },\n\"cat food for sensitive stomach\",\n\"sensitive\"],\n [{\n            'v': 174,\n            'f': \"174\",\n        },\n\"cat food kidney disease\",\n\"disease\"],\n [{\n            'v': 175,\n            'f': \"175\",\n        },\n\"dog food kidney disease\",\n\"disease\"],\n [{\n            'v': 176,\n            'f': \"176\",\n        },\n\"cat food for kidney disease\",\n\"disease\"],\n [{\n            'v': 177,\n            'f': \"177\",\n        },\n\"dog food for kidney disease\",\n\"disease\"],\n [{\n            'v': 178,\n            'f': \"178\",\n        },\n\"dog food heart disease\",\n\"disease\"],\n [{\n            'v': 179,\n            'f': \"179\",\n        },\n\"dog food delivery\",\n\"delivery\"],\n [{\n            'v': 180,\n            'f': \"180\",\n        },\n\"cat food delivery\",\n\"delivery\"],\n [{\n            'v': 181,\n            'f': \"181\",\n        },\n\"dog food delivery service\",\n\"delivery\"],\n [{\n            'v': 182,\n            'f': \"182\",\n        },\n\"dog food delivery same day\",\n\"delivery\"],\n [{\n            'v': 183,\n            'f': \"183\",\n        },\n\"cat food quick delivery\",\n\"delivery\"],\n [{\n            'v': 184,\n            'f': \"184\",\n        },\n\"dog food grain free\",\n\"grain\"],\n [{\n            'v': 185,\n            'f': \"185\",\n        },\n\"dog food grain free or not\",\n\"grain\"],\n [{\n            'v': 186,\n            'f': \"186\",\n        },\n\"cat food grain free\",\n\"grain\"],\n [{\n            'v': 187,\n            'f': \"187\",\n        },\n\"dog food with grain\",\n\"grain\"],\n [{\n            'v': 188,\n            'f': \"188\",\n        },\n\"dog food zero grain\",\n\"grain\"],\n [{\n            'v': 189,\n            'f': \"189\",\n        },\n\"dog food purina\",\n\"purina\"],\n [{\n            'v': 190,\n            'f': \"190\",\n        },\n\"cat food purina\",\n\"purina\"],\n [{\n            'v': 191,\n            'f': \"191\",\n        },\n\"cat food urinary purina\",\n\"purina\"],\n [{\n            'v': 192,\n            'f': \"192\",\n        },\n\"cat food purina one\",\n\"purina\"],\n [{\n            'v': 193,\n            'f': \"193\",\n        },\n\"dog food purina one\",\n\"purina\"],\n [{\n            'v': 194,\n            'f': \"194\",\n        },\n\"dog food without chicken\",\n\"chicken\"],\n [{\n            'v': 195,\n            'f': \"195\",\n        },\n\"cat food without chicken\",\n\"chicken\"],\n [{\n            'v': 196,\n            'f': \"196\",\n        },\n\"dog food recipes with chicken\",\n\"chicken\"],\n [{\n            'v': 197,\n            'f': \"197\",\n        },\n\"dog food no chicken\",\n\"chicken\"],\n [{\n            'v': 198,\n            'f': \"198\",\n        },\n\"cat food no chicken\",\n\"chicken\"],\n [{\n            'v': 199,\n            'f': \"199\",\n        },\n\"cat food reviews\",\n\"reviews\"],\n [{\n            'v': 200,\n            'f': \"200\",\n        },\n\"dog food reviews\",\n\"reviews\"],\n [{\n            'v': 201,\n            'f': \"201\",\n        },\n\"cat food reviews 2021\",\n\"reviews\"],\n [{\n            'v': 202,\n            'f': \"202\",\n        },\n\"dog food reviews 2021\",\n\"reviews\"],\n [{\n            'v': 203,\n            'f': \"203\",\n        },\n\"dog food zignature reviews\",\n\"reviews\"],\n [{\n            'v': 204,\n            'f': \"204\",\n        },\n\"dog food quantity\",\n\"quantity\"],\n [{\n            'v': 205,\n            'f': \"205\",\n        },\n\"cat food quantity\",\n\"quantity\"],\n [{\n            'v': 206,\n            'f': \"206\",\n        },\n\"cat food quantity calculator\",\n\"quantity\"],\n [{\n            'v': 207,\n            'f': \"207\",\n        },\n\"dog food quantity chart\",\n\"quantity\"],\n [{\n            'v': 208,\n            'f': \"208\",\n        },\n\"cat food quantity chart\",\n\"quantity\"],\n [{\n            'v': 209,\n            'f': \"209\",\n        },\n\"cat food and water bowls\",\n\"water\"],\n [{\n            'v': 210,\n            'f': \"210\",\n        },\n\"dog food you add water to\",\n\"water\"],\n [{\n            'v': 211,\n            'f': \"211\",\n        },\n\"cat food and water dispenser\",\n\"water\"],\n [{\n            'v': 212,\n            'f': \"212\",\n        },\n\"dog food and water bowl\",\n\"water\"],\n [{\n            'v': 213,\n            'f': \"213\",\n        },\n\"dog food just add water\",\n\"water\"],\n [{\n            'v': 214,\n            'f': \"214\",\n        },\n\"cat food shortage 2021\",\n\"2021\"],\n [{\n            'v': 215,\n            'f': \"215\",\n        },\n\"dog food recall 2021\",\n\"2021\"],\n [{\n            'v': 216,\n            'f': \"216\",\n        },\n\"cat food reviews 2021\",\n\"2021\"],\n [{\n            'v': 217,\n            'f': \"217\",\n        },\n\"dog food killing dogs 2021\",\n\"2021\"],\n [{\n            'v': 218,\n            'f': \"218\",\n        },\n\"dog food reviews 2021\",\n\"2021\"],\n [{\n            'v': 219,\n            'f': \"219\",\n        },\n\"dog food high in protein\",\n\"protein\"],\n [{\n            'v': 220,\n            'f': \"220\",\n        },\n\"cat food high protein\",\n\"protein\"],\n [{\n            'v': 221,\n            'f': \"221\",\n        },\n\"dog food hydrolyzed protein\",\n\"protein\"],\n [{\n            'v': 222,\n            'f': \"222\",\n        },\n\"cat food hydrolyzed protein\",\n\"protein\"],\n [{\n            'v': 223,\n            'f': \"223\",\n        },\n\"dog food low in protein\",\n\"protein\"],\n [{\n            'v': 224,\n            'f': \"224\",\n        },\n\"dog food costco\",\n\"costco\"],\n [{\n            'v': 225,\n            'f': \"225\",\n        },\n\"dog food costco\",\n\"costco\"],\n [{\n            'v': 226,\n            'f': \"226\",\n        },\n\"cat food costco\",\n\"costco\"],\n [{\n            'v': 227,\n            'f': \"227\",\n        },\n\"cat food at costco\",\n\"costco\"],\n [{\n            'v': 228,\n            'f': \"228\",\n        },\n\"dog food at costco\",\n\"costco\"],\n [{\n            'v': 229,\n            'f': \"229\",\n        },\n\"cat food good for cats\",\n\"good\"],\n [{\n            'v': 230,\n            'f': \"230\",\n        },\n\"dog food good for allergies\",\n\"good\"],\n [{\n            'v': 231,\n            'f': \"231\",\n        },\n\"cat food good for dogs\",\n\"good\"],\n [{\n            'v': 232,\n            'f': \"232\",\n        },\n\"dog food good for dogs\",\n\"good\"],\n [{\n            'v': 233,\n            'f': \"233\",\n        },\n\"cat food good for kidneys\",\n\"good\"],\n [{\n            'v': 234,\n            'f': \"234\",\n        },\n\"dog food ingredients\",\n\"ingredients\"],\n [{\n            'v': 235,\n            'f': \"235\",\n        },\n\"cat food ingredients\",\n\"ingredients\"],\n [{\n            'v': 236,\n            'f': \"236\",\n        },\n\"dog food ingredients to avoid\",\n\"ingredients\"],\n [{\n            'v': 237,\n            'f': \"237\",\n        },\n\"cat food ingredients to avoid\",\n\"ingredients\"],\n [{\n            'v': 238,\n            'f': \"238\",\n        },\n\"dog food online\",\n\"online\"],\n [{\n            'v': 239,\n            'f': \"239\",\n        },\n\"cat food online\",\n\"online\"],\n [{\n            'v': 240,\n            'f': \"240\",\n        },\n\"dog food online order\",\n\"online\"],\n [{\n            'v': 241,\n            'f': \"241\",\n        },\n\"cat food online shopping\",\n\"online\"],\n [{\n            'v': 242,\n            'f': \"242\",\n        },\n\"dog food yellow bag\",\n\"yellow\"],\n [{\n            'v': 243,\n            'f': \"243\",\n        },\n\"cat food yellow bag\",\n\"yellow\"],\n [{\n            'v': 244,\n            'f': \"244\",\n        },\n\"dog food in yellow bag\",\n\"yellow\"],\n [{\n            'v': 245,\n            'f': \"245\",\n        },\n\"dog food yellow\",\n\"yellow\"],\n [{\n            'v': 246,\n            'f': \"246\",\n        },\n\"dog food on sale\",\n\"sale\"],\n [{\n            'v': 247,\n            'f': \"247\",\n        },\n\"cat food on sale\",\n\"sale\"],\n [{\n            'v': 248,\n            'f': \"248\",\n        },\n\"cat food on sale near me\",\n\"sale\"],\n [{\n            'v': 249,\n            'f': \"249\",\n        },\n\"dog food on sale near me\",\n\"sale\"],\n [{\n            'v': 250,\n            'f': \"250\",\n        },\n\"dog food recall\",\n\"recall\"],\n [{\n            'v': 251,\n            'f': \"251\",\n        },\n\"cat food recall\",\n\"recall\"],\n [{\n            'v': 252,\n            'f': \"252\",\n        },\n\"dog food recall 2021\",\n\"recall\"],\n [{\n            'v': 253,\n            'f': \"253\",\n        },\n\"dog food recall\",\n\"recall\"],\n [{\n            'v': 254,\n            'f': \"254\",\n        },\n\"dog food without chicken\",\n\"without\"],\n [{\n            'v': 255,\n            'f': \"255\",\n        },\n\"cat food without chicken\",\n\"without\"],\n [{\n            'v': 256,\n            'f': \"256\",\n        },\n\"cat food without xanthan gum\",\n\"without\"],\n [{\n            'v': 257,\n            'f': \"257\",\n        },\n\"dog food without corn\",\n\"without\"],\n [{\n            'v': 258,\n            'f': \"258\",\n        },\n\"dog food ziwi\",\n\"ziwi\"],\n [{\n            'v': 259,\n            'f': \"259\",\n        },\n\"cat food ziwi\",\n\"ziwi\"],\n [{\n            'v': 260,\n            'f': \"260\",\n        },\n\"dog food ziwi peak\",\n\"ziwi\"],\n [{\n            'v': 261,\n            'f': \"261\",\n        },\n\"cat food ziwi peak\",\n\"ziwi\"],\n [{\n            'v': 262,\n            'f': \"262\",\n        },\n\"cat food bowls\",\n\"bowls\"],\n [{\n            'v': 263,\n            'f': \"263\",\n        },\n\"dog food bowls\",\n\"bowls\"],\n [{\n            'v': 264,\n            'f': \"264\",\n        },\n\"cat food and water bowls\",\n\"bowls\"],\n [{\n            'v': 265,\n            'f': \"265\",\n        },\n\"cat food bowls\",\n\"bowls\"],\n [{\n            'v': 266,\n            'f': \"266\",\n        },\n\"cat food wet\",\n\"wet\"],\n [{\n            'v': 267,\n            'f': \"267\",\n        },\n\"dog food wet\",\n\"wet\"],\n [{\n            'v': 268,\n            'f': \"268\",\n        },\n\"cat food brands wet\",\n\"wet\"],\n [{\n            'v': 269,\n            'f': \"269\",\n        },\n\"cat food wet vs dry\",\n\"wet\"],\n [{\n            'v': 270,\n            'f': \"270\",\n        },\n\"dog food homemade\",\n\"home\"],\n [{\n            'v': 271,\n            'f': \"271\",\n        },\n\"cat food you can make at home\",\n\"home\"],\n [{\n            'v': 272,\n            'f': \"272\",\n        },\n\"cat food homemade\",\n\"home\"],\n [{\n            'v': 273,\n            'f': \"273\",\n        },\n\"dog food you can make at home\",\n\"home\"],\n [{\n            'v': 274,\n            'f': \"274\",\n        },\n\"cat food recipes to make at home\",\n\"home\"],\n [{\n            'v': 275,\n            'f': \"275\",\n        },\n\"dog food home depot\",\n\"home\"],\n [{\n            'v': 276,\n            'f': \"276\",\n        },\n\"dog food high in fiber\",\n\"high\"],\n [{\n            'v': 277,\n            'f': \"277\",\n        },\n\"dog food high in protein\",\n\"high\"],\n [{\n            'v': 278,\n            'f': \"278\",\n        },\n\"cat food high in fiber\",\n\"high\"],\n [{\n            'v': 279,\n            'f': \"279\",\n        },\n\"cat food high protein\",\n\"high\"],\n [{\n            'v': 280,\n            'f': \"280\",\n        },\n\"cat food blue buffalo\",\n\"blue\"],\n [{\n            'v': 281,\n            'f': \"281\",\n        },\n\"dog food blue buffalo\",\n\"blue\"],\n [{\n            'v': 282,\n            'f': \"282\",\n        },\n\"cat food blue wilderness\",\n\"blue\"],\n [{\n            'v': 283,\n            'f': \"283\",\n        },\n\"dog food blue bag\",\n\"blue\"],\n [{\n            'v': 284,\n            'f': \"284\",\n        },\n\"cat food dry\",\n\"dry\"],\n [{\n            'v': 285,\n            'f': \"285\",\n        },\n\"cat food brands dry\",\n\"dry\"],\n [{\n            'v': 286,\n            'f': \"286\",\n        },\n\"dog food dry\",\n\"dry\"],\n [{\n            'v': 287,\n            'f': \"287\",\n        },\n\"cat food wet vs dry\",\n\"dry\"],\n [{\n            'v': 288,\n            'f': \"288\",\n        },\n\"cat food nutrition chart\",\n\"nutrition\"],\n [{\n            'v': 289,\n            'f': \"289\",\n        },\n\"cat food nutrition\",\n\"nutrition\"],\n [{\n            'v': 290,\n            'f': \"290\",\n        },\n\"cat food nutrition facts\",\n\"nutrition\"],\n [{\n            'v': 291,\n            'f': \"291\",\n        },\n\"dog food nutrition\",\n\"nutrition\"],\n [{\n            'v': 292,\n            'f': \"292\",\n        },\n\"cat food nutrition chart\",\n\"chart\"],\n [{\n            'v': 293,\n            'f': \"293\",\n        },\n\"dog food quality chart\",\n\"chart\"],\n [{\n            'v': 294,\n            'f': \"294\",\n        },\n\"dog food quantity chart\",\n\"chart\"],\n [{\n            'v': 295,\n            'f': \"295\",\n        },\n\"cat food quantity chart\",\n\"chart\"],\n [{\n            'v': 296,\n            'f': \"296\",\n        },\n\"cat food yearly cost\",\n\"cost\"],\n [{\n            'v': 297,\n            'f': \"297\",\n        },\n\"dog food costco\",\n\"cost\"],\n [{\n            'v': 298,\n            'f': \"298\",\n        },\n\"dog food costco\",\n\"cost\"],\n [{\n            'v': 299,\n            'f': \"299\",\n        },\n\"cat food costco\",\n\"cost\"],\n [{\n            'v': 300,\n            'f': \"300\",\n        },\n\"dog food cost\",\n\"cost\"],\n [{\n            'v': 301,\n            'f': \"301\",\n        },\n\"dog food cost\",\n\"cost\"],\n [{\n            'v': 302,\n            'f': \"302\",\n        },\n\"cat food cost\",\n\"cost\"],\n [{\n            'v': 303,\n            'f': \"303\",\n        },\n\"cat food at costco\",\n\"cost\"],\n [{\n            'v': 304,\n            'f': \"304\",\n        },\n\"dog food at costco\",\n\"cost\"],\n [{\n            'v': 305,\n            'f': \"305\",\n        },\n\"dog food to gain weight\",\n\"weight\"],\n [{\n            'v': 306,\n            'f': \"306\",\n        },\n\"cat food to gain weight\",\n\"weight\"],\n [{\n            'v': 307,\n            'f': \"307\",\n        },\n\"dog food for weight gain\",\n\"weight\"],\n [{\n            'v': 308,\n            'f': \"308\",\n        },\n\"cat food for weight loss\",\n\"weight\"],\n [{\n            'v': 309,\n            'f': \"309\",\n        },\n\"cat food natural balance\",\n\"natural\"],\n [{\n            'v': 310,\n            'f': \"310\",\n        },\n\"dog food natural balance\",\n\"natural\"],\n [{\n            'v': 311,\n            'f': \"311\",\n        },\n\"cat food natural\",\n\"natural\"],\n [{\n            'v': 312,\n            'f': \"312\",\n        },\n\"dog food natural\",\n\"natural\"],\n [{\n            'v': 313,\n            'f': \"313\",\n        },\n\"dog food bowl stand\",\n\"stand\"],\n [{\n            'v': 314,\n            'f': \"314\",\n        },\n\"dog food stand\",\n\"stand\"],\n [{\n            'v': 315,\n            'f': \"315\",\n        },\n\"cat food stand\",\n\"stand\"],\n [{\n            'v': 316,\n            'f': \"316\",\n        },\n\"cat food bowl stand\",\n\"stand\"],\n [{\n            'v': 317,\n            'f': \"317\",\n        },\n\"cat food auto feeder\",\n\"feeder\"],\n [{\n            'v': 318,\n            'f': \"318\",\n        },\n\"cat food timer feeder\",\n\"feeder\"],\n [{\n            'v': 319,\n            'f': \"319\",\n        },\n\"cat food feeder\",\n\"feeder\"],\n [{\n            'v': 320,\n            'f': \"320\",\n        },\n\"cat food gravity feeder\",\n\"feeder\"],\n [{\n            'v': 321,\n            'f': \"321\",\n        },\n\"dog food brands list\",\n\"list\"],\n [{\n            'v': 322,\n            'f': \"322\",\n        },\n\"dog food quality list\",\n\"list\"],\n [{\n            'v': 323,\n            'f': \"323\",\n        },\n\"cat food list\",\n\"list\"],\n [{\n            'v': 324,\n            'f': \"324\",\n        },\n\"dog food list\",\n\"list\"],\n [{\n            'v': 325,\n            'f': \"325\",\n        },\n\"dog food lyrics\",\n\"lyrics\"],\n [{\n            'v': 326,\n            'f': \"326\",\n        },\n\"cat food lyrics\",\n\"lyrics\"],\n [{\n            'v': 327,\n            'f': \"327\",\n        },\n\"cat food king crimson lyrics\",\n\"lyrics\"],\n [{\n            'v': 328,\n            'f': \"328\",\n        },\n\"dog food mat\",\n\"mat\"],\n [{\n            'v': 329,\n            'f': \"329\",\n        },\n\"cat food mat\",\n\"mat\"],\n [{\n            'v': 330,\n            'f': \"330\",\n        },\n\"dog food mat large\",\n\"mat\"],\n [{\n            'v': 331,\n            'f': \"331\",\n        },\n\"dog food puzzle\",\n\"puzzle\"],\n [{\n            'v': 332,\n            'f': \"332\",\n        },\n\"cat food puzzle\",\n\"puzzle\"],\n [{\n            'v': 333,\n            'f': \"333\",\n        },\n\"cat food puzzle bowl\",\n\"puzzle\"],\n [{\n            'v': 334,\n            'f': \"334\",\n        },\n\"cat food allergy symptoms\",\n\"allergy\"],\n [{\n            'v': 335,\n            'f': \"335\",\n        },\n\"dog food allergy symptoms\",\n\"allergy\"],\n [{\n            'v': 336,\n            'f': \"336\",\n        },\n\"dog food allergy test\",\n\"allergy\"],\n [{\n            'v': 337,\n            'f': \"337\",\n        },\n\"cat food ebt\",\n\"ebt\"],\n [{\n            'v': 338,\n            'f': \"338\",\n        },\n\"dog food ebt\",\n\"ebt\"],\n [{\n            'v': 339,\n            'f': \"339\",\n        },\n\"dog food on ebt\",\n\"ebt\"],\n [{\n            'v': 340,\n            'f': \"340\",\n        },\n\"cat food just gravy\",\n\"just\"],\n [{\n            'v': 341,\n            'f': \"341\",\n        },\n\"dog food just for dogs\",\n\"just\"],\n [{\n            'v': 342,\n            'f': \"342\",\n        },\n\"dog food just add water\",\n\"just\"],\n [{\n            'v': 343,\n            'f': \"343\",\n        },\n\"dog food grain free\",\n\"free\"],\n [{\n            'v': 344,\n            'f': \"344\",\n        },\n\"dog food grain free or not\",\n\"free\"],\n [{\n            'v': 345,\n            'f': \"345\",\n        },\n\"cat food grain free\",\n\"free\"],\n [{\n            'v': 346,\n            'f': \"346\",\n        },\n\"dog food tractor supply\",\n\"tractor\"],\n [{\n            'v': 347,\n            'f': \"347\",\n        },\n\"cat food tractor supply\",\n\"tractor\"],\n [{\n            'v': 348,\n            'f': \"348\",\n        },\n\"dog food at tractor supply\",\n\"tractor\"],\n [{\n            'v': 349,\n            'f': \"349\",\n        },\n\"dog food tractor supply\",\n\"supply\"],\n [{\n            'v': 350,\n            'f': \"350\",\n        },\n\"cat food tractor supply\",\n\"supply\"],\n [{\n            'v': 351,\n            'f': \"351\",\n        },\n\"dog food at tractor supply\",\n\"supply\"],\n [{\n            'v': 352,\n            'f': \"352\",\n        },\n\"dog food yakuza kiwami\",\n\"yakuza\"],\n [{\n            'v': 353,\n            'f': \"353\",\n        },\n\"cat food yakuza 6\",\n\"yakuza\"],\n [{\n            'v': 354,\n            'f': \"354\",\n        },\n\"dog food yakuza 3\",\n\"yakuza\"],\n [{\n            'v': 355,\n            'f': \"355\",\n        },\n\"cat food coupons\",\n\"coupons\"],\n [{\n            'v': 356,\n            'f': \"356\",\n        },\n\"dog food coupons\",\n\"coupons\"],\n [{\n            'v': 357,\n            'f': \"357\",\n        },\n\"dog food coupons\",\n\"coupons\"],\n [{\n            'v': 358,\n            'f': \"358\",\n        },\n\"cat food you can make at home\",\n\"make\"],\n [{\n            'v': 359,\n            'f': \"359\",\n        },\n\"dog food you can make at home\",\n\"make\"],\n [{\n            'v': 360,\n            'f': \"360\",\n        },\n\"cat food recipes to make at home\",\n\"make\"],\n [{\n            'v': 361,\n            'f': \"361\",\n        },\n\"dog food high in fiber\",\n\"fiber\"],\n [{\n            'v': 362,\n            'f': \"362\",\n        },\n\"cat food high in fiber\",\n\"fiber\"],\n [{\n            'v': 363,\n            'f': \"363\",\n        },\n\"cat food with fiber\",\n\"fiber\"],\n [{\n            'v': 364,\n            'f': \"364\",\n        },\n\"cat food zero waste\",\n\"zero\"],\n [{\n            'v': 365,\n            'f': \"365\",\n        },\n\"dog food zero grain\",\n\"zero\"],\n [{\n            'v': 366,\n            'f': \"366\",\n        },\n\"cat food zero no kiseki\",\n\"zero\"],\n [{\n            'v': 367,\n            'f': \"367\",\n        },\n\"dog food toppers\",\n\"topper\"],\n [{\n            'v': 368,\n            'f': \"368\",\n        },\n\"dog food gravy topper\",\n\"topper\"],\n [{\n            'v': 369,\n            'f': \"369\",\n        },\n\"cat food topper\",\n\"topper\"],\n [{\n            'v': 370,\n            'f': \"370\",\n        },\n\"cat food gravy topper\",\n\"topper\"],\n [{\n            'v': 371,\n            'f': \"371\",\n        },\n\"dog food to gain weight\",\n\"gain\"],\n [{\n            'v': 372,\n            'f': \"372\",\n        },\n\"cat food to gain weight\",\n\"gain\"],\n [{\n            'v': 373,\n            'f': \"373\",\n        },\n\"cat food young again\",\n\"gain\"],\n [{\n            'v': 374,\n            'f': \"374\",\n        },\n\"dog food for weight gain\",\n\"gain\"],\n [{\n            'v': 375,\n            'f': \"375\",\n        },\n\"cat food amazon\",\n\"amazon\"],\n [{\n            'v': 376,\n            'f': \"376\",\n        },\n\"cat food on amazon\",\n\"amazon\"],\n [{\n            'v': 377,\n            'f': \"377\",\n        },\n\"dog food on amazon\",\n\"amazon\"],\n [{\n            'v': 378,\n            'f': \"378\",\n        },\n\"cat food kidney care\",\n\"care\"],\n [{\n            'v': 379,\n            'f': \"379\",\n        },\n\"dog food kidney care\",\n\"care\"],\n [{\n            'v': 380,\n            'f': \"380\",\n        },\n\"cat food urinary care c/d\",\n\"care\"],\n [{\n            'v': 381,\n            'f': \"381\",\n        },\n\"dog food one\",\n\"one\"],\n [{\n            'v': 382,\n            'f': \"382\",\n        },\n\"cat food purina one\",\n\"one\"],\n [{\n            'v': 383,\n            'f': \"383\",\n        },\n\"dog food purina one\",\n\"one\"],\n [{\n            'v': 384,\n            'f': \"384\",\n        },\n\"cat food dispenser timer\",\n\"timer\"],\n [{\n            'v': 385,\n            'f': \"385\",\n        },\n\"cat food timer feeder\",\n\"timer\"],\n [{\n            'v': 386,\n            'f': \"386\",\n        },\n\"cat food timer\",\n\"timer\"],\n [{\n            'v': 387,\n            'f': \"387\",\n        },\n\"cat food good for cats\",\n\"cats\"],\n [{\n            'v': 388,\n            'f': \"388\",\n        },\n\"cat food for diabetic cats\",\n\"cats\"],\n [{\n            'v': 389,\n            'f': \"389\",\n        },\n\"cat food killing cats\",\n\"cats\"],\n [{\n            'v': 390,\n            'f': \"390\",\n        },\n\"cat food maze\",\n\"maze\"],\n [{\n            'v': 391,\n            'f': \"391\",\n        },\n\"dog food bowl maze\",\n\"maze\"],\n [{\n            'v': 392,\n            'f': \"392\",\n        },\n\"dog food maze bowl\",\n\"maze\"],\n [{\n            'v': 393,\n            'f': \"393\",\n        },\n\"dog food killing dogs 2021\",\n\"killing\"],\n [{\n            'v': 394,\n            'f': \"394\",\n        },\n\"dog food killing dogs\",\n\"killing\"],\n [{\n            'v': 395,\n            'f': \"395\",\n        },\n\"cat food killing cats\",\n\"killing\"],\n [{\n            'v': 396,\n            'f': \"396\",\n        },\n\"dog food vets recommend\",\n\"vets\"],\n [{\n            'v': 397,\n            'f': \"397\",\n        },\n\"dog food recommended by vets\",\n\"vets\"],\n [{\n            'v': 398,\n            'f': \"398\",\n        },\n\"cat food recommended by vets\",\n\"vets\"],\n [{\n            'v': 399,\n            'f': \"399\",\n        },\n\"dog food intolerance\",\n\"intolerance\"],\n [{\n            'v': 400,\n            'f': \"400\",\n        },\n\"dog food intolerance test\",\n\"intolerance\"],\n [{\n            'v': 401,\n            'f': \"401\",\n        },\n\"cat food intolerance\",\n\"intolerance\"],\n [{\n            'v': 402,\n            'f': \"402\",\n        },\n\"cat food kcal calculator\",\n\"kcal\"],\n [{\n            'v': 403,\n            'f': \"403\",\n        },\n\"dog food kcal calculator\",\n\"kcal\"],\n [{\n            'v': 404,\n            'f': \"404\",\n        },\n\"cat food kcal\",\n\"kcal\"],\n [{\n            'v': 405,\n            'f': \"405\",\n        },\n\"dog food advisor\",\n\"advisor\"],\n [{\n            'v': 406,\n            'f': \"406\",\n        },\n\"dog food advisor\",\n\"advisor\"],\n [{\n            'v': 407,\n            'f': \"407\",\n        },\n\"dog food holder\",\n\"holder\"],\n [{\n            'v': 408,\n            'f': \"408\",\n        },\n\"cat food holder\",\n\"holder\"],\n [{\n            'v': 409,\n            'f': \"409\",\n        },\n\"dog food joint health\",\n\"joint\"],\n [{\n            'v': 410,\n            'f': \"410\",\n        },\n\"cat food joint health\",\n\"joint\"],\n [{\n            'v': 411,\n            'f': \"411\",\n        },\n\"dog food kibble\",\n\"kibble\"],\n [{\n            'v': 412,\n            'f': \"412\",\n        },\n\"dog food kibbles and bits\",\n\"kibble\"],\n [{\n            'v': 413,\n            'f': \"413\",\n        },\n\"cat food kibble\",\n\"kibble\"],\n [{\n            'v': 414,\n            'f': \"414\",\n        },\n\"dog food quiz\",\n\"quiz\"],\n [{\n            'v': 415,\n            'f': \"415\",\n        },\n\"cat food quiz\",\n\"quiz\"],\n [{\n            'v': 416,\n            'f': \"416\",\n        },\n\"dog food urban dictionary\",\n\"urban\"],\n [{\n            'v': 417,\n            'f': \"417\",\n        },\n\"cat food urban dictionary\",\n\"urban\"],\n [{\n            'v': 418,\n            'f': \"418\",\n        },\n\"dog food urban dictionary\",\n\"dictionary\"],\n [{\n            'v': 419,\n            'f': \"419\",\n        },\n\"cat food urban dictionary\",\n\"dictionary\"],\n [{\n            'v': 420,\n            'f': \"420\",\n        },\n\"dog food vault\",\n\"vault\"],\n [{\n            'v': 421,\n            'f': \"421\",\n        },\n\"cat food vault\",\n\"vault\"],\n [{\n            'v': 422,\n            'f': \"422\",\n        },\n\"dog food zignature\",\n\"zignature\"],\n [{\n            'v': 423,\n            'f': \"423\",\n        },\n\"dog food zignature reviews\",\n\"zignature\"],\n [{\n            'v': 424,\n            'f': \"424\",\n        },\n\"cat food allergy symptoms\",\n\"symptoms\"],\n [{\n            'v': 425,\n            'f': \"425\",\n        },\n\"dog food allergy symptoms\",\n\"symptoms\"],\n [{\n            'v': 426,\n            'f': \"426\",\n        },\n\"cat food lid\",\n\"lid\"],\n [{\n            'v': 427,\n            'f': \"427\",\n        },\n\"dog food lid\",\n\"lid\"],\n [{\n            'v': 428,\n            'f': \"428\",\n        },\n\"cat food target\",\n\"target\"],\n [{\n            'v': 429,\n            'f': \"429\",\n        },\n\"dog food target\",\n\"target\"],\n [{\n            'v': 430,\n            'f': \"430\",\n        },\n\"dog food enhancer\",\n\"enhancer\"],\n [{\n            'v': 431,\n            'f': \"431\",\n        },\n\"cat food enhancer\",\n\"enhancer\"],\n [{\n            'v': 432,\n            'f': \"432\",\n        },\n\"dog food homemade\",\n\"homemade\"],\n [{\n            'v': 433,\n            'f': \"433\",\n        },\n\"cat food homemade\",\n\"homemade\"],\n [{\n            'v': 434,\n            'f': \"434\",\n        },\n\"dog food ingredients to avoid\",\n\"avoid\"],\n [{\n            'v': 435,\n            'f': \"435\",\n        },\n\"cat food ingredients to avoid\",\n\"avoid\"],\n [{\n            'v': 436,\n            'f': \"436\",\n        },\n\"dog food jar\",\n\"jar\"],\n [{\n            'v': 437,\n            'f': \"437\",\n        },\n\"cat food jar\",\n\"jar\"],\n [{\n            'v': 438,\n            'f': \"438\",\n        },\n\"dog food label\",\n\"label\"],\n [{\n            'v': 439,\n            'f': \"439\",\n        },\n\"cat food label\",\n\"label\"],\n [{\n            'v': 440,\n            'f': \"440\",\n        },\n\"dog food homemade\",\n\"made\"],\n [{\n            'v': 441,\n            'f': \"441\",\n        },\n\"dog food made in usa\",\n\"made\"],\n [{\n            'v': 442,\n            'f': \"442\",\n        },\n\"cat food homemade\",\n\"made\"],\n [{\n            'v': 443,\n            'f': \"443\",\n        },\n\"cat food made in china\",\n\"made\"],\n [{\n            'v': 444,\n            'f': \"444\",\n        },\n\"dog food made in usa\",\n\"usa\"],\n [{\n            'v': 445,\n            'f': \"445\",\n        },\n\"dog food usa\",\n\"usa\"],\n [{\n            'v': 446,\n            'f': \"446\",\n        },\n\"dog food texas\",\n\"texas\"],\n [{\n            'v': 447,\n            'f': \"447\",\n        },\n\"dog food texas\",\n\"texas\"],\n [{\n            'v': 448,\n            'f': \"448\",\n        },\n\"cat food green bag\",\n\"green\"],\n [{\n            'v': 449,\n            'f': \"449\",\n        },\n\"dog food green bag\",\n\"green\"],\n [{\n            'v': 450,\n            'f': \"450\",\n        },\n\"cat food walgreens\",\n\"green\"],\n [{\n            'v': 451,\n            'f': \"451\",\n        },\n\"cat food iams\",\n\"iams\"],\n [{\n            'v': 452,\n            'f': \"452\",\n        },\n\"dog food iams\",\n\"iams\"],\n [{\n            'v': 453,\n            'f': \"453\",\n        },\n\"cat food jello\",\n\"jello\"],\n [{\n            'v': 454,\n            'f': \"454\",\n        },\n\"cat food jello mold\",\n\"jello\"],\n [{\n            'v': 455,\n            'f': \"455\",\n        },\n\"cat food king crimson\",\n\"king\"],\n [{\n            'v': 456,\n            'f': \"456\",\n        },\n\"cat food king crimson lyrics\",\n\"king\"],\n [{\n            'v': 457,\n            'f': \"457\",\n        },\n\"cat food king crimson\",\n\"crimson\"],\n [{\n            'v': 458,\n            'f': \"458\",\n        },\n\"cat food king crimson lyrics\",\n\"crimson\"],\n [{\n            'v': 459,\n            'f': \"459\",\n        },\n\"dog food yellow bag\",\n\"low\"],\n [{\n            'v': 460,\n            'f': \"460\",\n        },\n\"cat food yellow bag\",\n\"low\"],\n [{\n            'v': 461,\n            'f': \"461\",\n        },\n\"cat food low in phosphorus\",\n\"low\"],\n [{\n            'v': 462,\n            'f': \"462\",\n        },\n\"dog food in yellow bag\",\n\"low\"],\n [{\n            'v': 463,\n            'f': \"463\",\n        },\n\"dog food yellow\",\n\"low\"],\n [{\n            'v': 464,\n            'f': \"464\",\n        },\n\"dog food low in protein\",\n\"low\"],\n [{\n            'v': 465,\n            'f': \"465\",\n        },\n\"cat food names\",\n\"names\"],\n [{\n            'v': 466,\n            'f': \"466\",\n        },\n\"dog food names\",\n\"names\"],\n [{\n            'v': 467,\n            'f': \"467\",\n        },\n\"cat food shortage 2022\",\n\"2022\"],\n [{\n            'v': 468,\n            'f': \"468\",\n        },\n\"cat food shortage 2022\",\n\"2022\"],\n [{\n            'v': 469,\n            'f': \"469\",\n        },\n\"cat food tray\",\n\"tray\"],\n [{\n            'v': 470,\n            'f': \"470\",\n        },\n\"dog food tray\",\n\"tray\"],\n [{\n            'v': 471,\n            'f': \"471\",\n        },\n\"cat food vs kitten food\",\n\"kitten\"],\n [{\n            'v': 472,\n            'f': \"472\",\n        },\n\"cat food kitten\",\n\"kitten\"],\n [{\n            'v': 473,\n            'f': \"473\",\n        },\n\"cat food for kittens\",\n\"kitten\"],\n [{\n            'v': 474,\n            'f': \"474\",\n        },\n\"cat food x 40\",\n\"40\"],\n [{\n            'v': 475,\n            'f': \"475\",\n        },\n\"sheba cat food x40\",\n\"40\"],\n [{\n            'v': 476,\n            'f': \"476\",\n        },\n\"felix cat food x40\",\n\"40\"],\n [{\n            'v': 477,\n            'f': \"477\",\n        },\n\"gourmet cat food x 40\",\n\"40\"],\n [{\n            'v': 478,\n            'f': \"478\",\n        },\n\"dog food express\",\n\"express\"],\n [{\n            'v': 479,\n            'f': \"479\",\n        },\n\"cat food express\",\n\"express\"],\n [{\n            'v': 480,\n            'f': \"480\",\n        },\n\"dog food in spanish\",\n\"spanish\"],\n [{\n            'v': 481,\n            'f': \"481\",\n        },\n\"cat food in spanish\",\n\"spanish\"],\n [{\n            'v': 482,\n            'f': \"482\",\n        },\n\"dog food kroger\",\n\"kroger\"],\n [{\n            'v': 483,\n            'f': \"483\",\n        },\n\"cat food kroger\",\n\"kroger\"],\n [{\n            'v': 484,\n            'f': \"484\",\n        },\n\"dog food lamb and rice\",\n\"lamb\"],\n [{\n            'v': 485,\n            'f': \"485\",\n        },\n\"dog food lamb\",\n\"lamb\"],\n [{\n            'v': 486,\n            'f': \"486\",\n        },\n\"dog food measuring cup\",\n\"measuring\"],\n [{\n            'v': 487,\n            'f': \"487\",\n        },\n\"cat food measuring cup\",\n\"measuring\"],\n [{\n            'v': 488,\n            'f': \"488\",\n        },\n\"dog food measuring cup\",\n\"cup\"],\n [{\n            'v': 489,\n            'f': \"489\",\n        },\n\"cat food measuring cup\",\n\"cup\"],\n [{\n            'v': 490,\n            'f': \"490\",\n        },\n\"dog food california\",\n\"california\"],\n [{\n            'v': 491,\n            'f': \"491\",\n        },\n\"dog food california\",\n\"california\"],\n [{\n            'v': 492,\n            'f': \"492\",\n        },\n\"dog food orijen\",\n\"orijen\"],\n [{\n            'v': 493,\n            'f': \"493\",\n        },\n\"cat food orijen\",\n\"orijen\"],\n [{\n            'v': 494,\n            'f': \"494\",\n        },\n\"dog food upset stomach\",\n\"upset\"],\n [{\n            'v': 495,\n            'f': \"495\",\n        },\n\"cat food upset stomach\",\n\"upset\"],\n [{\n            'v': 496,\n            'f': \"496\",\n        },\n\"dog food venison\",\n\"venison\"],\n [{\n            'v': 497,\n            'f': \"497\",\n        },\n\"cat food venison\",\n\"venison\"],\n [{\n            'v': 498,\n            'f': \"498\",\n        },\n\"dog food with probiotics\",\n\"probiotics\"],\n [{\n            'v': 499,\n            'f': \"499\",\n        },\n\"cat food with probiotics\",\n\"probiotics\"],\n [{\n            'v': 500,\n            'f': \"500\",\n        },\n\"cat food blue buffalo\",\n\"buffalo\"],\n [{\n            'v': 501,\n            'f': \"501\",\n        },\n\"dog food blue buffalo\",\n\"buffalo\"],\n [{\n            'v': 502,\n            'f': \"502\",\n        },\n\"cat food easy to digest\",\n\"easy\"],\n [{\n            'v': 503,\n            'f': \"503\",\n        },\n\"dog food easy to digest\",\n\"easy\"],\n [{\n            'v': 504,\n            'f': \"504\",\n        },\n\"cat food easy to digest\",\n\"digest\"],\n [{\n            'v': 505,\n            'f': \"505\",\n        },\n\"dog food easy to digest\",\n\"digest\"],\n [{\n            'v': 506,\n            'f': \"506\",\n        },\n\"cat food in bulk\",\n\"bulk\"],\n [{\n            'v': 507,\n            'f': \"507\",\n        },\n\"dog food in bulk\",\n\"bulk\"],\n [{\n            'v': 508,\n            'f': \"508\",\n        },\n\"cat food meow mix\",\n\"mix\"],\n [{\n            'v': 509,\n            'f': \"509\",\n        },\n\"dog food mix ins\",\n\"mix\"],\n [{\n            'v': 510,\n            'f': \"510\",\n        },\n\"cat food uti\",\n\"uti\"],\n [{\n            'v': 511,\n            'f': \"511\",\n        },\n\"dog food uti\",\n\"uti\"],\n [{\n            'v': 512,\n            'f': \"512\",\n        },\n\"cat food xanthan gum\",\n\"xanthan\"],\n [{\n            'v': 513,\n            'f': \"513\",\n        },\n\"cat food without xanthan gum\",\n\"xanthan\"],\n [{\n            'v': 514,\n            'f': \"514\",\n        },\n\"cat food xanthan gum\",\n\"gum\"],\n [{\n            'v': 515,\n            'f': \"515\",\n        },\n\"cat food without xanthan gum\",\n\"gum\"],\n [{\n            'v': 516,\n            'f': \"516\",\n        },\n\"dog food comparison\",\n\"comparison\"],\n [{\n            'v': 517,\n            'f': \"517\",\n        },\n\"dog food comparison\",\n\"comparison\"],\n [{\n            'v': 518,\n            'f': \"518\",\n        },\n\"dog food expiration\",\n\"expiration\"],\n [{\n            'v': 519,\n            'f': \"519\",\n        },\n\"cat food expiration date\",\n\"expiration\"],\n [{\n            'v': 520,\n            'f': \"520\",\n        },\n\"dog food poisoning\",\n\"poisoning\"],\n [{\n            'v': 521,\n            'f': \"521\",\n        },\n\"cat food poisoning\",\n\"poisoning\"],\n [{\n            'v': 522,\n            'f': \"522\",\n        },\n\"dog food quotes\",\n\"quotes\"],\n [{\n            'v': 523,\n            'f': \"523\",\n        },\n\"cat food quotes\",\n\"quotes\"],\n [{\n            'v': 524,\n            'f': \"524\",\n        },\n\"dog food store near me\",\n\"store\"],\n [{\n            'v': 525,\n            'f': \"525\",\n        },\n\"dog food store\",\n\"store\"],\n [{\n            'v': 526,\n            'f': \"526\",\n        },\n\"cat food enrichment toys\",\n\"enrichment\"],\n [{\n            'v': 527,\n            'f': \"527\",\n        },\n\"cat food enrichment\",\n\"enrichment\"],\n [{\n            'v': 528,\n            'f': \"528\",\n        },\n\"cat food limited ingredient\",\n\"limited\"],\n [{\n            'v': 529,\n            'f': \"529\",\n        },\n\"dog food limited ingredient\",\n\"limited\"],\n [{\n            'v': 530,\n            'f': \"530\",\n        },\n\"dog food ingredients\",\n\"ingredient\"],\n [{\n            'v': 531,\n            'f': \"531\",\n        },\n\"cat food ingredients\",\n\"ingredient\"],\n [{\n            'v': 532,\n            'f': \"532\",\n        },\n\"dog food ingredients to avoid\",\n\"ingredient\"],\n [{\n            'v': 533,\n            'f': \"533\",\n        },\n\"cat food limited ingredient\",\n\"ingredient\"],\n [{\n            'v': 534,\n            'f': \"534\",\n        },\n\"dog food limited ingredient\",\n\"ingredient\"],\n [{\n            'v': 535,\n            'f': \"535\",\n        },\n\"cat food ingredients to avoid\",\n\"ingredient\"],\n [{\n            'v': 536,\n            'f': \"536\",\n        },\n\"cat food natural balance\",\n\"balance\"],\n [{\n            'v': 537,\n            'f': \"537\",\n        },\n\"dog food natural balance\",\n\"balance\"],\n [{\n            'v': 538,\n            'f': \"538\",\n        },\n\"cat food organizer\",\n\"organizer\"],\n [{\n            'v': 539,\n            'f': \"539\",\n        },\n\"dog food organizer\",\n\"organizer\"],\n [{\n            'v': 540,\n            'f': \"540\",\n        },\n\"dog food prices\",\n\"price\"],\n [{\n            'v': 541,\n            'f': \"541\",\n        },\n\"cat food price\",\n\"price\"],\n [{\n            'v': 542,\n            'f': \"542\",\n        },\n\"cat food vs dog food price\",\n\"price\"],\n [{\n            'v': 543,\n            'f': \"543\",\n        },\n\"cat food royal canin\",\n\"royal\"],\n [{\n            'v': 544,\n            'f': \"544\",\n        },\n\"dog food royal canin\",\n\"royal\"],\n [{\n            'v': 545,\n            'f': \"545\",\n        },\n\"cat food royal canin\",\n\"canin\"],\n [{\n            'v': 546,\n            'f': \"546\",\n        },\n\"dog food royal canin\",\n\"canin\"],\n [{\n            'v': 547,\n            'f': \"547\",\n        },\n\"cat food zooplus\",\n\"zooplus\"],\n [{\n            'v': 548,\n            'f': \"548\",\n        },\n\"dog food zooplus\",\n\"zooplus\"],\n [{\n            'v': 549,\n            'f': \"549\",\n        },\n\"dog food allergy test\",\n\"test\"],\n [{\n            'v': 550,\n            'f': \"550\",\n        },\n\"dog food intolerance test\",\n\"test\"],\n [{\n            'v': 551,\n            'f': \"551\",\n        },\n\"dog food donations\",\n\"donations\"],\n [{\n            'v': 552,\n            'f': \"552\",\n        },\n\"cat food donations\",\n\"donations\"],\n [{\n            'v': 553,\n            'f': \"553\",\n        },\n\"dog food healthy\",\n\"healthy\"],\n [{\n            'v': 554,\n            'f': \"554\",\n        },\n\"cat food healthy\",\n\"healthy\"],\n [{\n            'v': 555,\n            'f': \"555\",\n        },\n\"dog food mat large\",\n\"large\"],\n [{\n            'v': 556,\n            'f': \"556\",\n        },\n\"dog food large breed\",\n\"large\"],\n [{\n            'v': 557,\n            'f': \"557\",\n        },\n\"dog food subscription\",\n\"subscription\"],\n [{\n            'v': 558,\n            'f': \"558\",\n        },\n\"cat food subscription\",\n\"subscription\"],\n [{\n            'v': 559,\n            'f': \"559\",\n        },\n\"dog food vitamins\",\n\"vitamins\"],\n [{\n            'v': 560,\n            'f': \"560\",\n        },\n\"cat food vitamins\",\n\"vitamins\"],\n [{\n            'v': 561,\n            'f': \"561\",\n        },\n\"dog food you add water to\",\n\"add\"],\n [{\n            'v': 562,\n            'f': \"562\",\n        },\n\"dog food just add water\",\n\"add\"],\n [{\n            'v': 563,\n            'f': \"563\",\n        },\n\"dog food additives\",\n\"add\"],\n [{\n            'v': 564,\n            'f': \"564\",\n        },\n\"cat food blue wilderness\",\n\"wilderness\"],\n [{\n            'v': 565,\n            'f': \"565\",\n        },\n\"dog food wilderness\",\n\"wilderness\"],\n [{\n            'v': 566,\n            'f': \"566\",\n        },\n\"cat food pouches\",\n\"pouches\"],\n [{\n            'v': 567,\n            'f': \"567\",\n        },\n\"cat food in pouches\",\n\"pouches\"],\n [{\n            'v': 568,\n            'f': \"568\",\n        },\n\"dog food aggression\",\n\"aggression\"],\n [{\n            'v': 569,\n            'f': \"569\",\n        },\n\"cat food aggression\",\n\"aggression\"],\n [{\n            'v': 570,\n            'f': \"570\",\n        },\n\"dog food hills\",\n\"hills\"],\n [{\n            'v': 571,\n            'f': \"571\",\n        },\n\"cat food hills\",\n\"hills\"],\n [{\n            'v': 572,\n            'f': \"572\",\n        },\n\"dog food nutro\",\n\"nutro\"],\n [{\n            'v': 573,\n            'f': \"573\",\n        },\n\"cat food nutro\",\n\"nutro\"],\n [{\n            'v': 574,\n            'f': \"574\",\n        },\n\"dog food petsmart\",\n\"petsmart\"],\n [{\n            'v': 575,\n            'f': \"575\",\n        },\n\"cat food petsmart\",\n\"petsmart\"],\n [{\n            'v': 576,\n            'f': \"576\",\n        },\n\"dog food ziwi peak\",\n\"peak\"],\n [{\n            'v': 577,\n            'f': \"577\",\n        },\n\"cat food ziwi peak\",\n\"peak\"],\n [{\n            'v': 578,\n            'f': \"578\",\n        },\n\"cat food dollar general\",\n\"dollar\"],\n [{\n            'v': 579,\n            'f': \"579\",\n        },\n\"dog food dollar general\",\n\"dollar\"],\n [{\n            'v': 580,\n            'f': \"580\",\n        },\n\"cat food dollar general\",\n\"general\"],\n [{\n            'v': 581,\n            'f': \"581\",\n        },\n\"dog food dollar general\",\n\"general\"],\n [{\n            'v': 582,\n            'f': \"582\",\n        },\n\"cat food orange bag\",\n\"orange\"],\n [{\n            'v': 583,\n            'f': \"583\",\n        },\n\"dog food orange bag\",\n\"orange\"],\n [{\n            'v': 584,\n            'f': \"584\",\n        },\n\"cat food urinary health c/d\",\n\"c/d\"],\n [{\n            'v': 585,\n            'f': \"585\",\n        },\n\"cat food urinary care c/d\",\n\"c/d\"],\n [{\n            'v': 586,\n            'f': \"586\",\n        },\n\"dog food heb\",\n\"heb\"],\n [{\n            'v': 587,\n            'f': \"587\",\n        },\n\"cat food heb\",\n\"heb\"],\n [{\n            'v': 588,\n            'f': \"588\",\n        },\n\"sheba cat food x40\",\n\"heb\"],\n [{\n            'v': 589,\n            'f': \"589\",\n        },\n\"dog food petco\",\n\"petco\"],\n [{\n            'v': 590,\n            'f': \"590\",\n        },\n\"cat food petco\",\n\"petco\"],\n [{\n            'v': 591,\n            'f': \"591\",\n        },\n\"cat food blue wilderness\",\n\"wild\"],\n [{\n            'v': 592,\n            'f': \"592\",\n        },\n\"dog food wilderness\",\n\"wild\"],\n [{\n            'v': 593,\n            'f': \"593\",\n        },\n\"dog food taste of the wild\",\n\"wild\"],\n [{\n            'v': 594,\n            'f': \"594\",\n        },\n\"dog food wild\",\n\"wild\"],\n [{\n            'v': 595,\n            'f': \"595\",\n        },\n\"cat food expensive\",\n\"expensive\"],\n [{\n            'v': 596,\n            'f': \"596\",\n        },\n\"dog food expensive\",\n\"expensive\"],\n [{\n            'v': 597,\n            'f': \"597\",\n        },\n\"cat food with pumpkin\",\n\"pumpkin\"],\n [{\n            'v': 598,\n            'f': \"598\",\n        },\n\"dog food with pumpkin\",\n\"pumpkin\"],\n [{\n            'v': 599,\n            'f': \"599\",\n        },\n\"sheba cat food x40\",\n\"x40\"],\n [{\n            'v': 600,\n            'f': \"600\",\n        },\n\"felix cat food x40\",\n\"x40\"],\n [{\n            'v': 601,\n            'f': \"601\",\n        },\n\"dog food elimination diet\",\n\"diet\"],\n [{\n            'v': 602,\n            'f': \"602\",\n        },\n\"cat food diet\",\n\"diet\"],\n [{\n            'v': 603,\n            'f': \"603\",\n        },\n\"cat food yang bagus\",\n\"yang\"],\n [{\n            'v': 604,\n            'f': \"604\",\n        },\n\"cat food yang bagus untuk bulu\",\n\"yang\"],\n [{\n            'v': 605,\n            'f': \"605\",\n        },\n\"cat food yang bagus\",\n\"bagus\"],\n [{\n            'v': 606,\n            'f': \"606\",\n        },\n\"cat food yang bagus untuk bulu\",\n\"bagus\"],\n [{\n            'v': 607,\n            'f': \"607\",\n        },\n\"dog food companies\",\n\"companies\"],\n [{\n            'v': 608,\n            'f': \"608\",\n        },\n\"dog food companies\",\n\"companies\"],\n [{\n            'v': 609,\n            'f': \"609\",\n        },\n\"dog food hydrolyzed protein\",\n\"hydrolyzed\"],\n [{\n            'v': 610,\n            'f': \"610\",\n        },\n\"cat food hydrolyzed protein\",\n\"hydrolyzed\"],\n [{\n            'v': 611,\n            'f': \"611\",\n        },\n\"dog food recommended by vets\",\n\"recommended\"],\n [{\n            'v': 612,\n            'f': \"612\",\n        },\n\"cat food recommended by vets\",\n\"recommended\"],\n [{\n            'v': 613,\n            'f': \"613\",\n        },\n\"dog food container 50 lbs\",\n\"50\"],\n [{\n            'v': 614,\n            'f': \"614\",\n        },\n\"dog food container 50 lbs\",\n\"50\"],\n [{\n            'v': 615,\n            'f': \"615\",\n        },\n\"dog food container 50 lbs\",\n\"lbs\"],\n [{\n            'v': 616,\n            'f': \"616\",\n        },\n\"dog food container 50 lbs\",\n\"lbs\"],\n [{\n            'v': 617,\n            'f': \"617\",\n        },\n\"dog food eukanuba\",\n\"eukanuba\"],\n [{\n            'v': 618,\n            'f': \"618\",\n        },\n\"dog food toppers\",\n\"toppers\"],\n [{\n            'v': 619,\n            'f': \"619\",\n        },\n\"cat food x shaped\",\n\"shaped\"],\n [{\n            'v': 620,\n            'f': \"620\",\n        },\n\"cat food z/d\",\n\"z/d\"],\n [{\n            'v': 621,\n            'f': \"621\",\n        },\n\"dog food bin\",\n\"bin\"],\n [{\n            'v': 622,\n            'f': \"622\",\n        },\n\"dog food victor\",\n\"victor\"],\n [{\n            'v': 623,\n            'f': \"623\",\n        },\n\"dog food yakuza kiwami\",\n\"kiwami\"],\n [{\n            'v': 624,\n            'f': \"624\",\n        },\n\"cat food enclosure\",\n\"enclosure\"],\n [{\n            'v': 625,\n            'f': \"625\",\n        },\n\"cat food hairball control\",\n\"hairball\"],\n [{\n            'v': 626,\n            'f': \"626\",\n        },\n\"cat food hairball control\",\n\"control\"],\n [{\n            'v': 627,\n            'f': \"627\",\n        },\n\"cat food low in phosphorus\",\n\"phosphorus\"],\n [{\n            'v': 628,\n            'f': \"628\",\n        },\n\"cat food meme\",\n\"meme\"],\n [{\n            'v': 629,\n            'f': \"629\",\n        },\n\"dog food delivery service\",\n\"service\"],\n [{\n            'v': 630,\n            'f': \"630\",\n        },\n\"dog food for picky eaters\",\n\"picky\"],\n [{\n            'v': 631,\n            'f': \"631\",\n        },\n\"dog food for picky eaters\",\n\"eaters\"],\n [{\n            'v': 632,\n            'f': \"632\",\n        },\n\"dog food jobs\",\n\"jobs\"],\n [{\n            'v': 633,\n            'f': \"633\",\n        },\n\"dog food lamb and rice\",\n\"rice\"],\n [{\n            'v': 634,\n            'f': \"634\",\n        },\n\"dog food prices\",\n\"rice\"],\n [{\n            'v': 635,\n            'f': \"635\",\n        },\n\"cat food price\",\n\"rice\"],\n [{\n            'v': 636,\n            'f': \"636\",\n        },\n\"cat food vs dog food price\",\n\"rice\"],\n [{\n            'v': 637,\n            'f': \"637\",\n        },\n\"dog food prices\",\n\"prices\"],\n [{\n            'v': 638,\n            'f': \"638\",\n        },\n\"dog food yorkie\",\n\"yorkie\"],\n [{\n            'v': 639,\n            'f': \"639\",\n        },\n\"dog food zelda link's awakening\",\n\"zelda\"],\n [{\n            'v': 640,\n            'f': \"640\",\n        },\n\"dog food zelda link's awakening\",\n\"link\"],\n [{\n            'v': 641,\n            'f': \"641\",\n        },\n\"dog food zelda link's awakening\",\n\"'s\"],\n [{\n            'v': 642,\n            'f': \"642\",\n        },\n\"dog food zelda link's awakening\",\n\"awakening\"]],\n        columns: [[\"number\", \"index\"], [\"string\", \"Keyword\"], [\"string\", \"Cluster\"]],\n        columnOptions: [{\"width\": \"1px\", \"className\": \"index_column\"}],\n        rowsPerPage: 25,\n        helpUrl: \"https://colab.research.google.com/notebooks/data_table.ipynb\",\n        suppressOutputScrolling: true,\n        minimumWidth: undefined,\n      });\n    ",
            "text/html": [
              "\n",
              "  <div id=\"df-8259da34-63e2-42cd-8ba1-1bd21cc4ad9f\">\n",
              "    <div class=\"colab-df-container\">\n",
              "      <div>\n",
              "<style scoped>\n",
              "    .dataframe tbody tr th:only-of-type {\n",
              "        vertical-align: middle;\n",
              "    }\n",
              "\n",
              "    .dataframe tbody tr th {\n",
              "        vertical-align: top;\n",
              "    }\n",
              "\n",
              "    .dataframe thead th {\n",
              "        text-align: right;\n",
              "    }\n",
              "</style>\n",
              "<table border=\"1\" class=\"dataframe\">\n",
              "  <thead>\n",
              "    <tr style=\"text-align: right;\">\n",
              "      <th></th>\n",
              "      <th>Keyword</th>\n",
              "      <th>Cluster</th>\n",
              "    </tr>\n",
              "  </thead>\n",
              "  <tbody>\n",
              "    <tr>\n",
              "      <th>0</th>\n",
              "      <td>dog food container</td>\n",
              "      <td>container</td>\n",
              "    </tr>\n",
              "    <tr>\n",
              "      <th>1</th>\n",
              "      <td>dog food storage container</td>\n",
              "      <td>container</td>\n",
              "    </tr>\n",
              "    <tr>\n",
              "      <th>2</th>\n",
              "      <td>dog food container</td>\n",
              "      <td>container</td>\n",
              "    </tr>\n",
              "    <tr>\n",
              "      <th>3</th>\n",
              "      <td>cat food container</td>\n",
              "      <td>container</td>\n",
              "    </tr>\n",
              "    <tr>\n",
              "      <th>4</th>\n",
              "      <td>dog food container</td>\n",
              "      <td>container</td>\n",
              "    </tr>\n",
              "    <tr>\n",
              "      <th>...</th>\n",
              "      <td>...</td>\n",
              "      <td>...</td>\n",
              "    </tr>\n",
              "    <tr>\n",
              "      <th>638</th>\n",
              "      <td>dog food yorkie</td>\n",
              "      <td>yorkie</td>\n",
              "    </tr>\n",
              "    <tr>\n",
              "      <th>639</th>\n",
              "      <td>dog food zelda link's awakening</td>\n",
              "      <td>zelda</td>\n",
              "    </tr>\n",
              "    <tr>\n",
              "      <th>640</th>\n",
              "      <td>dog food zelda link's awakening</td>\n",
              "      <td>link</td>\n",
              "    </tr>\n",
              "    <tr>\n",
              "      <th>641</th>\n",
              "      <td>dog food zelda link's awakening</td>\n",
              "      <td>'s</td>\n",
              "    </tr>\n",
              "    <tr>\n",
              "      <th>642</th>\n",
              "      <td>dog food zelda link's awakening</td>\n",
              "      <td>awakening</td>\n",
              "    </tr>\n",
              "  </tbody>\n",
              "</table>\n",
              "<p>643 rows × 2 columns</p>\n",
              "</div>\n",
              "      <button class=\"colab-df-convert\" onclick=\"convertToInteractive('df-8259da34-63e2-42cd-8ba1-1bd21cc4ad9f')\"\n",
              "              title=\"Convert this dataframe to an interactive table.\"\n",
              "              style=\"display:none;\">\n",
              "        \n",
              "  <svg xmlns=\"http://www.w3.org/2000/svg\" height=\"24px\"viewBox=\"0 0 24 24\"\n",
              "       width=\"24px\">\n",
              "    <path d=\"M0 0h24v24H0V0z\" fill=\"none\"/>\n",
              "    <path d=\"M18.56 5.44l.94 2.06.94-2.06 2.06-.94-2.06-.94-.94-2.06-.94 2.06-2.06.94zm-11 1L8.5 8.5l.94-2.06 2.06-.94-2.06-.94L8.5 2.5l-.94 2.06-2.06.94zm10 10l.94 2.06.94-2.06 2.06-.94-2.06-.94-.94-2.06-.94 2.06-2.06.94z\"/><path d=\"M17.41 7.96l-1.37-1.37c-.4-.4-.92-.59-1.43-.59-.52 0-1.04.2-1.43.59L10.3 9.45l-7.72 7.72c-.78.78-.78 2.05 0 2.83L4 21.41c.39.39.9.59 1.41.59.51 0 1.02-.2 1.41-.59l7.78-7.78 2.81-2.81c.8-.78.8-2.07 0-2.86zM5.41 20L4 18.59l7.72-7.72 1.47 1.35L5.41 20z\"/>\n",
              "  </svg>\n",
              "      </button>\n",
              "      \n",
              "  <style>\n",
              "    .colab-df-container {\n",
              "      display:flex;\n",
              "      flex-wrap:wrap;\n",
              "      gap: 12px;\n",
              "    }\n",
              "\n",
              "    .colab-df-convert {\n",
              "      background-color: #E8F0FE;\n",
              "      border: none;\n",
              "      border-radius: 50%;\n",
              "      cursor: pointer;\n",
              "      display: none;\n",
              "      fill: #1967D2;\n",
              "      height: 32px;\n",
              "      padding: 0 0 0 0;\n",
              "      width: 32px;\n",
              "    }\n",
              "\n",
              "    .colab-df-convert:hover {\n",
              "      background-color: #E2EBFA;\n",
              "      box-shadow: 0px 1px 2px rgba(60, 64, 67, 0.3), 0px 1px 3px 1px rgba(60, 64, 67, 0.15);\n",
              "      fill: #174EA6;\n",
              "    }\n",
              "\n",
              "    [theme=dark] .colab-df-convert {\n",
              "      background-color: #3B4455;\n",
              "      fill: #D2E3FC;\n",
              "    }\n",
              "\n",
              "    [theme=dark] .colab-df-convert:hover {\n",
              "      background-color: #434B5C;\n",
              "      box-shadow: 0px 1px 3px 1px rgba(0, 0, 0, 0.15);\n",
              "      filter: drop-shadow(0px 1px 2px rgba(0, 0, 0, 0.3));\n",
              "      fill: #FFFFFF;\n",
              "    }\n",
              "  </style>\n",
              "\n",
              "      <script>\n",
              "        const buttonEl =\n",
              "          document.querySelector('#df-8259da34-63e2-42cd-8ba1-1bd21cc4ad9f button.colab-df-convert');\n",
              "        buttonEl.style.display =\n",
              "          google.colab.kernel.accessAllowed ? 'block' : 'none';\n",
              "\n",
              "        async function convertToInteractive(key) {\n",
              "          const element = document.querySelector('#df-8259da34-63e2-42cd-8ba1-1bd21cc4ad9f');\n",
              "          const dataTable =\n",
              "            await google.colab.kernel.invokeFunction('convertToInteractive',\n",
              "                                                     [key], {});\n",
              "          if (!dataTable) return;\n",
              "\n",
              "          const docLinkHtml = 'Like what you see? Visit the ' +\n",
              "            '<a target=\"_blank\" href=https://colab.research.google.com/notebooks/data_table.ipynb>data table notebook</a>'\n",
              "            + ' to learn more about interactive tables.';\n",
              "          element.innerHTML = '';\n",
              "          dataTable['output_type'] = 'display_data';\n",
              "          await google.colab.output.renderOutput(dataTable, element);\n",
              "          const docLink = document.createElement('div');\n",
              "          docLink.innerHTML = docLinkHtml;\n",
              "          element.appendChild(docLink);\n",
              "        }\n",
              "      </script>\n",
              "    </div>\n",
              "  </div>\n",
              "  "
            ],
            "text/plain": [
              "                             Keyword    Cluster\n",
              "0                 dog food container  container\n",
              "1         dog food storage container  container\n",
              "2                 dog food container  container\n",
              "3                 cat food container  container\n",
              "4                 dog food container  container\n",
              "..                               ...        ...\n",
              "638                  dog food yorkie     yorkie\n",
              "639  dog food zelda link's awakening      zelda\n",
              "640  dog food zelda link's awakening       link\n",
              "641  dog food zelda link's awakening         's\n",
              "642  dog food zelda link's awakening  awakening\n",
              "\n",
              "[643 rows x 2 columns]"
            ]
          },
          "metadata": {},
          "execution_count": 11
        }
      ]
    },
    {
      "cell_type": "code",
      "metadata": {
        "id": "dvMP5St1bVIx"
      },
      "source": [],
      "execution_count": null,
      "outputs": []
    }
  ]
}